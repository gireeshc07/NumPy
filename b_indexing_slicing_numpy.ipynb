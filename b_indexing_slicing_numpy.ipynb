{
 "cells": [
  {
   "cell_type": "markdown",
   "id": "c4ac2294-3a24-4c8f-b67d-089d03225709",
   "metadata": {},
   "source": [
    "<img src=\"numpy-logo.svg\" alt=\"NumPy Logo\" style=\"width: 300px; height: 200px;\">\n",
    "<h1>Indexing and Slicing NumPy Arrays</h1>"
   ]
  },
  {
   "cell_type": "code",
   "execution_count": 48,
   "id": "03f616f9-ca1a-470c-b050-a610351a3e1d",
   "metadata": {},
   "outputs": [],
   "source": [
    "import numpy as np\n",
    "import pandas as pd\n",
    "import matplotlib.pyplot as plt"
   ]
  },
  {
   "cell_type": "markdown",
   "id": "8cc1cafd-739f-4f1b-9a3a-59cb0847d3d7",
   "metadata": {},
   "source": [
    "<h3>Numpy Array Indexing:</h3>"
   ]
  },
  {
   "cell_type": "markdown",
   "id": "4588c45c-b050-44c9-b799-c3709fbe9b58",
   "metadata": {},
   "source": [
    "<h4>1. One Dimension</h4>"
   ]
  },
  {
   "cell_type": "code",
   "execution_count": 52,
   "id": "af7c7cb9-f2c7-40db-b5d4-3274ee4af826",
   "metadata": {},
   "outputs": [
    {
     "name": "stdout",
     "output_type": "stream",
     "text": [
      "[10 20 30 40 50 60 70 80 90]\n",
      "9\n"
     ]
    }
   ],
   "source": [
    "my_array1 = np.array([10, 20, 30, 40, 50, 60, 70, 80, 90])\n",
    "\n",
    "print(my_array1)\n",
    "print(len(my_array1))"
   ]
  },
  {
   "cell_type": "code",
   "execution_count": 54,
   "id": "c0dc32a2-61ce-4d49-9299-264968c3b8d2",
   "metadata": {},
   "outputs": [
    {
     "name": "stdout",
     "output_type": "stream",
     "text": [
      "10\n",
      "90\n"
     ]
    }
   ],
   "source": [
    "# positive indexing\n",
    "print(my_array1[0])\n",
    "print(my_array1[8])"
   ]
  },
  {
   "cell_type": "code",
   "execution_count": 56,
   "id": "c7555d56-49dc-4d06-9d5f-975feb238e87",
   "metadata": {},
   "outputs": [
    {
     "name": "stdout",
     "output_type": "stream",
     "text": [
      "90\n",
      "10\n"
     ]
    }
   ],
   "source": [
    "# negative indexing\n",
    "print(my_array1[-1])\n",
    "print(my_array1[-9])"
   ]
  },
  {
   "cell_type": "markdown",
   "id": "f78c945e-a93d-40e0-86c5-5737804298bc",
   "metadata": {},
   "source": [
    "<h4>2. Two Dimension</h4>"
   ]
  },
  {
   "cell_type": "code",
   "execution_count": 59,
   "id": "37a907e9-8b84-4be6-b637-9d9fbfe45627",
   "metadata": {},
   "outputs": [
    {
     "data": {
      "text/plain": [
       "array([[10, 20, 30, 40],\n",
       "       [50, 60, 70,  0],\n",
       "       [90, 50, 80, 70]])"
      ]
     },
     "execution_count": 59,
     "metadata": {},
     "output_type": "execute_result"
    }
   ],
   "source": [
    "my_array2 = np.array([[10, 20, 30, 40], [50, 60, 70, 0], [90, 50, 80, 70]])\n",
    "my_array2"
   ]
  },
  {
   "cell_type": "code",
   "execution_count": 61,
   "id": "5fa544b3-29f4-4053-abb4-c21e55723961",
   "metadata": {},
   "outputs": [
    {
     "name": "stdout",
     "output_type": "stream",
     "text": [
      "30\n",
      "80\n",
      "70\n",
      "0\n",
      "[10 20 30 40]\n"
     ]
    }
   ],
   "source": [
    "# positive indexing\n",
    "print(my_array2[0, 2])\n",
    "print(my_array2[2, 2])\n",
    "print(my_array2[1, 2])\n",
    "print(my_array2[1, 3])\n",
    "print(my_array2[0])"
   ]
  },
  {
   "cell_type": "code",
   "execution_count": 63,
   "id": "fc093ab3-0b61-4b57-9de6-3bda16936733",
   "metadata": {},
   "outputs": [
    {
     "name": "stdout",
     "output_type": "stream",
     "text": [
      "[[10 20 30 40]\n",
      " [50 60 70  0]\n",
      " [90 50 80 70]]\n",
      "80\n",
      "60\n",
      "[90 50 80 70]\n"
     ]
    }
   ],
   "source": [
    "# negative indexing\n",
    "print(my_array2)\n",
    "print(my_array2[-1, -2])\n",
    "print(my_array2[-2, -3])\n",
    "print(my_array2[-1])"
   ]
  },
  {
   "cell_type": "markdown",
   "id": "da76e269-fcdb-4e5d-8799-95191b879428",
   "metadata": {},
   "source": [
    "<h4>3. Three Dimension</h4>"
   ]
  },
  {
   "cell_type": "code",
   "execution_count": 66,
   "id": "63d421ad-da1d-4bae-8513-ceb090d6ae91",
   "metadata": {},
   "outputs": [
    {
     "data": {
      "text/plain": [
       "array([[[10, 20, 30],\n",
       "        [40, 50, 60]],\n",
       "\n",
       "       [[70, 80, 90],\n",
       "        [50, 80, 70]]])"
      ]
     },
     "execution_count": 66,
     "metadata": {},
     "output_type": "execute_result"
    }
   ],
   "source": [
    "my_array3 = np.array([[[10, 20, 30], [40, 50, 60]], [[70, 80, 90], [50, 80, 70]]])\n",
    "my_array3"
   ]
  },
  {
   "cell_type": "code",
   "execution_count": 68,
   "id": "e53d5454-16dd-4cc6-86ad-f827bd29769e",
   "metadata": {},
   "outputs": [
    {
     "name": "stdout",
     "output_type": "stream",
     "text": [
      "[[10 20 30]\n",
      " [40 50 60]]\n",
      "[40 50 60]\n",
      "60\n",
      "60\n",
      "[60]\n"
     ]
    }
   ],
   "source": [
    "# positive indexing\n",
    "print(my_array3[0])\n",
    "print(my_array3[0, 1])\n",
    "print(my_array3[0, 1, 2])\n",
    "print(my_array3[0] [1] [2])\n",
    "print(my_array3[[0], [1], [2]])"
   ]
  },
  {
   "cell_type": "code",
   "execution_count": 70,
   "id": "d082eb66-0b81-4184-b224-bcac1b6f56c9",
   "metadata": {},
   "outputs": [
    {
     "name": "stdout",
     "output_type": "stream",
     "text": [
      "[[70 80 90]\n",
      " [50 80 70]]\n",
      "[50 80 70]\n",
      "70\n",
      "80\n",
      "[80]\n"
     ]
    }
   ],
   "source": [
    "# negative indexing\n",
    "print(my_array3[-1])\n",
    "print(my_array3[-1, -1])\n",
    "print(my_array3[-1, -1, -1])\n",
    "print(my_array3[-1][-1][-2])\n",
    "print(my_array3[[-1], [-1], [-2]])"
   ]
  },
  {
   "cell_type": "markdown",
   "id": "83f91082-0559-4e67-9029-952f61106e99",
   "metadata": {},
   "source": [
    "<h3>Numpy Array Slicing:</h3>"
   ]
  },
  {
   "cell_type": "markdown",
   "id": "a71d68f8-24e2-4072-a60b-5343f157a294",
   "metadata": {},
   "source": [
    "<h4>1. One Dimension</h4>"
   ]
  },
  {
   "cell_type": "code",
   "execution_count": 74,
   "id": "b964d793-28ee-4bd3-b414-bd9787888118",
   "metadata": {},
   "outputs": [
    {
     "name": "stdout",
     "output_type": "stream",
     "text": [
      "One Dimensional Array:\n",
      "\n",
      "[10 20 30 40 50 60 70 80 90] \n",
      "\n",
      "Positive Slicing:\n",
      "\n",
      "[10 20 30 40 50 60 70 80 90] \n",
      "\n",
      "[10 20 30 40 50 60 70 80 90] \n",
      "\n",
      "[10 30 50 70 90] \n",
      "\n",
      "20 \n",
      "\n",
      "[20 30 40] \n",
      "\n",
      "[20 40] \n",
      "\n",
      "[50 60 70 80 90] \n",
      "\n",
      "[10 20 30 40] \n",
      "\n"
     ]
    }
   ],
   "source": [
    "print(f\"One Dimensional Array:\\n\")\n",
    "print(my_array1, \"\\n\")\n",
    "\n",
    "print(f\"Positive Slicing:\\n\")\n",
    "print(my_array1[:], \"\\n\")\n",
    "print(my_array1[::], \"\\n\")\n",
    "print(my_array1[::2], \"\\n\")\n",
    "print(my_array1[1], \"\\n\")\n",
    "print(my_array1[1:4], \"\\n\")\n",
    "print(my_array1[1:5:2], \"\\n\")\n",
    "print(my_array1[4:], \"\\n\")\n",
    "print(my_array1[:4], \"\\n\")"
   ]
  },
  {
   "cell_type": "code",
   "execution_count": 76,
   "id": "15741f48-e1bb-4f41-99a4-26c44689a0a7",
   "metadata": {},
   "outputs": [
    {
     "name": "stdout",
     "output_type": "stream",
     "text": [
      "Negative Slicing:\n",
      "\n",
      "[90 70 50 30 10] \n",
      "\n",
      "90 \n",
      "\n",
      "[90 80 70] \n",
      "\n",
      "[90 70] \n",
      "\n",
      "[60 70 80 90] \n",
      "\n",
      "[10 20 30 40 50] \n",
      "\n"
     ]
    }
   ],
   "source": [
    "print(f\"Negative Slicing:\\n\")\n",
    "print(my_array1[::-2], \"\\n\")\n",
    "print(my_array1[-1], \"\\n\")\n",
    "print(my_array1[-1:-4:-1], \"\\n\")\n",
    "print(my_array1[-1:-5:-2], \"\\n\")\n",
    "print(my_array1[-4:], \"\\n\")\n",
    "print(my_array1[:-4], \"\\n\")"
   ]
  },
  {
   "cell_type": "markdown",
   "id": "38f2eb74-dbe0-495e-9702-eb38b597b0a6",
   "metadata": {},
   "source": [
    "<h4>2. Two Dimension</h4>"
   ]
  },
  {
   "cell_type": "code",
   "execution_count": 79,
   "id": "3546f29c-4a23-41d9-83e4-94e0d8c9c9f6",
   "metadata": {
    "scrolled": true
   },
   "outputs": [
    {
     "name": "stdout",
     "output_type": "stream",
     "text": [
      "Two Dimensional Array:\n",
      "\n",
      "[[10 20 30 40]\n",
      " [50 60 70  0]\n",
      " [90 50 80 70]] \n",
      "\n",
      "Positive and Negative Slicing:\n",
      "\n",
      "[10 20] \n",
      "\n",
      "[50 60 70  0] \n",
      "\n",
      "[50 60 70  0] \n",
      "\n",
      "[20 60 50] \n",
      "\n",
      "[[50 60 70  0]\n",
      " [90 50 80 70]] \n",
      "\n",
      "[[20 30]\n",
      " [60 70]\n",
      " [50 80]] \n",
      "\n",
      "[60 50] \n",
      "\n",
      "[[50]\n",
      " [90]] \n",
      "\n",
      "[[10 20 30]\n",
      " [50 60 70]] \n",
      "\n"
     ]
    }
   ],
   "source": [
    "print(f\"Two Dimensional Array:\\n\")\n",
    "print(my_array2,\"\\n\")\n",
    "\n",
    "print(f\"Positive and Negative Slicing:\\n\")\n",
    "print(my_array2[0, 0:2], \"\\n\")\n",
    "print(my_array2[1,], \"\\n\")\n",
    "print(my_array2[1, :], \"\\n\")\n",
    "print(my_array2[:, 1], \"\\n\")\n",
    "print(my_array2[1:3], \"\\n\")\n",
    "print(my_array2[:, 1:3], \"\\n\")\n",
    "print(my_array2[1:3, 1], \"\\n\")\n",
    "print(my_array2[1:3, :1], \"\\n\")\n",
    "print(my_array2[:-1, :-1], \"\\n\")"
   ]
  },
  {
   "cell_type": "markdown",
   "id": "acfd7cff-b42a-40df-b783-a26eca20fcb8",
   "metadata": {},
   "source": [
    "<h4>3. Three Dimension</h4>"
   ]
  },
  {
   "cell_type": "code",
   "execution_count": 85,
   "id": "d1341416-be13-409e-a21a-adc02f291b62",
   "metadata": {},
   "outputs": [
    {
     "name": "stdout",
     "output_type": "stream",
     "text": [
      "The Dimensional Array:\n",
      "\n",
      "[[[10 20 30]\n",
      "  [40 50 60]]\n",
      "\n",
      " [[70 80 90]\n",
      "  [50 80 70]]] \n",
      "\n",
      "Positive and Negative Slicing:\n",
      "\n",
      "[[[10 20 30]\n",
      "  [40 50 60]]\n",
      "\n",
      " [[70 80 90]\n",
      "  [50 80 70]]] \n",
      "\n",
      "[[[10 20 30]\n",
      "  [40 50 60]]] \n",
      "\n",
      "[[[10 20]\n",
      "  [40 50]]] \n",
      "\n",
      "[60 70] \n",
      "\n",
      "[90 70] \n",
      "\n",
      "[50 80 70] \n",
      "\n"
     ]
    }
   ],
   "source": [
    "print(f\"The Dimensional Array:\\n\")\n",
    "print(my_array3,\"\\n\")\n",
    "\n",
    "print(f\"Positive and Negative Slicing:\\n\")\n",
    "print(my_array3[0: 2], \"\\n\")\n",
    "print(my_array3[0:1, 0:2], \"\\n\")\n",
    "print(my_array3[0:1, 0:2, 0:2], \"\\n\")\n",
    "\n",
    "print(my_array3[:, -1, -1], \"\\n\")\n",
    "print(my_array3[-1, :, -1], \"\\n\")\n",
    "print(my_array3[-1, -1, :], \"\\n\")"
   ]
  },
  {
   "cell_type": "code",
   "execution_count": null,
   "id": "366d6e27-3909-4be8-8cbe-128f4f45d4dd",
   "metadata": {},
   "outputs": [],
   "source": []
  }
 ],
 "metadata": {
  "kernelspec": {
   "display_name": "Python [conda env:base] *",
   "language": "python",
   "name": "conda-base-py"
  },
  "language_info": {
   "codemirror_mode": {
    "name": "ipython",
    "version": 3
   },
   "file_extension": ".py",
   "mimetype": "text/x-python",
   "name": "python",
   "nbconvert_exporter": "python",
   "pygments_lexer": "ipython3",
   "version": "3.12.7"
  }
 },
 "nbformat": 4,
 "nbformat_minor": 5
}
