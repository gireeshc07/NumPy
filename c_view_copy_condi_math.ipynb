{
 "cells": [
  {
   "cell_type": "markdown",
   "id": "3d31935a-28f7-4d1e-a9da-86f5e1fce945",
   "metadata": {},
   "source": [
    "<img src=\"numpy-logo.svg\" alt=\"NumPy Logo\" style=\"width: 300px; height: 200px;\">\n",
    "<h1>Applying Conditions on NumPy Arrays</h1>"
   ]
  },
  {
   "cell_type": "code",
   "execution_count": 13,
   "id": "567a4c0c-f2e1-43b3-9291-32fc7ad93d23",
   "metadata": {},
   "outputs": [],
   "source": [
    "import numpy as np\n",
    "import pandas as pd\n",
    "import matplotlib.pyplot as plt"
   ]
  },
  {
   "cell_type": "markdown",
   "id": "d2d133d2-2639-4007-a920-120b17a2cf4a",
   "metadata": {},
   "source": [
    "<h4>Create a Reference :</h4>"
   ]
  },
  {
   "cell_type": "code",
   "execution_count": 16,
   "id": "25cf525a-4809-467d-a8e5-18988c8e1665",
   "metadata": {},
   "outputs": [
    {
     "data": {
      "text/plain": [
       "array([ 0,  1,  2,  3,  4,  5,  6,  7,  8,  9, 10])"
      ]
     },
     "execution_count": 16,
     "metadata": {},
     "output_type": "execute_result"
    }
   ],
   "source": [
    "x1 = np.arange(11)\n",
    "x1"
   ]
  },
  {
   "cell_type": "code",
   "execution_count": 18,
   "id": "272d4299-b10a-478f-bb5d-1ea16e7de54d",
   "metadata": {},
   "outputs": [
    {
     "name": "stdout",
     "output_type": "stream",
     "text": [
      "[ 0  1  2  3  4  5  6  7  8  9 10]\n",
      "[ 0  1  2  3  4  5  6  7  8  9 10]\n"
     ]
    }
   ],
   "source": [
    "x2 = x1\n",
    "\n",
    "print(x1)\n",
    "print(x2)"
   ]
  },
  {
   "cell_type": "code",
   "execution_count": 20,
   "id": "f8a66def-f672-4c51-8254-2e3c9f1972b7",
   "metadata": {},
   "outputs": [
    {
     "name": "stdout",
     "output_type": "stream",
     "text": [
      "[10  1  2  3  4  5  6  7  8  9 10]\n",
      "[10  1  2  3  4  5  6  7  8  9 10]\n"
     ]
    }
   ],
   "source": [
    "x2[0] = 10\n",
    "\n",
    "print(x1)\n",
    "print(x2)"
   ]
  },
  {
   "cell_type": "code",
   "execution_count": 22,
   "id": "00213388-4120-45b0-b1f4-07bab0aee553",
   "metadata": {},
   "outputs": [
    {
     "name": "stdout",
     "output_type": "stream",
     "text": [
      "[10  1 30  3  4  5  6  7  8  9 10]\n",
      "[10  1 30  3  4  5  6  7  8  9 10]\n"
     ]
    }
   ],
   "source": [
    "x1[2] = 30\n",
    "\n",
    "print(x1)\n",
    "print(x2)"
   ]
  },
  {
   "cell_type": "code",
   "execution_count": 24,
   "id": "70d76557-2b0a-4a8e-b274-804cf2eef88e",
   "metadata": {},
   "outputs": [
    {
     "name": "stdout",
     "output_type": "stream",
     "text": [
      "True\n",
      "2363919474896\n",
      "2363919474896\n"
     ]
    }
   ],
   "source": [
    "print(np.shares_memory(x1, x2))\n",
    "\n",
    "print(id(x1))\n",
    "print(id(x2))"
   ]
  },
  {
   "cell_type": "markdown",
   "id": "730dfa49-675f-4421-a606-6d4c7b440b59",
   "metadata": {},
   "source": [
    "<h4>Create a View :</h4>"
   ]
  },
  {
   "cell_type": "code",
   "execution_count": 27,
   "id": "56ae3fd8-dd8f-48a0-9c15-119b4d111752",
   "metadata": {},
   "outputs": [
    {
     "data": {
      "text/plain": [
       "array([ 0,  1,  2,  3,  4,  5,  6,  7,  8,  9, 10])"
      ]
     },
     "execution_count": 27,
     "metadata": {},
     "output_type": "execute_result"
    }
   ],
   "source": [
    "y1 = np.arange(11)\n",
    "y1"
   ]
  },
  {
   "cell_type": "code",
   "execution_count": 29,
   "id": "2844813d-687b-4017-bd00-edc633a12d14",
   "metadata": {},
   "outputs": [
    {
     "name": "stdout",
     "output_type": "stream",
     "text": [
      "[ 0  1  2  3  4  5  6  7  8  9 10]\n",
      "[ 0  1  2  3  4  5  6  7  8  9 10]\n"
     ]
    }
   ],
   "source": [
    "y2 = y1.view()\n",
    "\n",
    "print(y1)\n",
    "print(y2)"
   ]
  },
  {
   "cell_type": "code",
   "execution_count": 31,
   "id": "de5b29bf-e3bc-4f66-a80e-ec97a8e36af0",
   "metadata": {},
   "outputs": [
    {
     "name": "stdout",
     "output_type": "stream",
     "text": [
      "[10  1  2 20  4  5  6  7  8  9 10]\n",
      "[10  1  2 20  4  5  6  7  8  9 10]\n"
     ]
    }
   ],
   "source": [
    "y1[0] = 10\n",
    "y2[3] = 20\n",
    "\n",
    "print(y1)\n",
    "print(y2)"
   ]
  },
  {
   "cell_type": "code",
   "execution_count": 33,
   "id": "13fbb484-ee91-45fd-9679-8216f241f6d5",
   "metadata": {},
   "outputs": [
    {
     "name": "stdout",
     "output_type": "stream",
     "text": [
      "True\n",
      "2363919474992\n",
      "2363932801904\n"
     ]
    }
   ],
   "source": [
    "print(np.shares_memory(y1, y2))\n",
    "\n",
    "print(id(y1))\n",
    "print(id(y2))"
   ]
  },
  {
   "cell_type": "markdown",
   "id": "76e7f994-3586-4d7a-850b-18b7f1ae96b3",
   "metadata": {},
   "source": [
    "<h4>Create a Copy :</h4>"
   ]
  },
  {
   "cell_type": "code",
   "execution_count": 36,
   "id": "96c368fe-0747-4994-aff1-deba810a7e67",
   "metadata": {},
   "outputs": [
    {
     "data": {
      "text/plain": [
       "array([ 0,  1,  2,  3,  4,  5,  6,  7,  8,  9, 10])"
      ]
     },
     "execution_count": 36,
     "metadata": {},
     "output_type": "execute_result"
    }
   ],
   "source": [
    "z1 = np.arange(11)\n",
    "z1"
   ]
  },
  {
   "cell_type": "code",
   "execution_count": 38,
   "id": "a5f98771-eed8-48c7-8606-4b27d8b48b4b",
   "metadata": {},
   "outputs": [
    {
     "name": "stdout",
     "output_type": "stream",
     "text": [
      "[ 0  1  2  3  4  5  6  7  8  9 10]\n",
      "[ 0  1  2  3  4  5  6  7  8  9 10]\n"
     ]
    }
   ],
   "source": [
    "z2 = np.copy(z1) # or z2 = z1. copy()\n",
    "\n",
    "print(z1)\n",
    "print(z2)"
   ]
  },
  {
   "cell_type": "code",
   "execution_count": 40,
   "id": "06c504b4-4daa-4320-80bf-786a0511be51",
   "metadata": {},
   "outputs": [
    {
     "name": "stdout",
     "output_type": "stream",
     "text": [
      "[10  1  2  3  4  5  6  7  8  9 10]\n",
      "[ 0  1  2 20  4  5  6  7  8  9 10]\n"
     ]
    }
   ],
   "source": [
    "z1[0] = 10\n",
    "z2[3] = 20\n",
    "\n",
    "print(z1)\n",
    "print(z2)"
   ]
  },
  {
   "cell_type": "code",
   "execution_count": 42,
   "id": "67883ee7-e8f4-461c-921d-28b66b868f29",
   "metadata": {},
   "outputs": [
    {
     "name": "stdout",
     "output_type": "stream",
     "text": [
      "False\n",
      "2363932801616\n",
      "2363932802192\n"
     ]
    }
   ],
   "source": [
    "print(np.shares_memory(z1, z2))\n",
    "\n",
    "print(id(z1))\n",
    "print(id(z2))"
   ]
  },
  {
   "cell_type": "markdown",
   "id": "ae939fc5-d3a8-4dc3-8ab0-c9c7dda4556c",
   "metadata": {},
   "source": [
    "<h4>Applying Conditions :</h4>"
   ]
  },
  {
   "cell_type": "code",
   "execution_count": 45,
   "id": "8a6b22e7-dd1b-4df5-ad2c-76c2a5c90ccd",
   "metadata": {},
   "outputs": [
    {
     "name": "stdout",
     "output_type": "stream",
     "text": [
      "[[1 2 2]\n",
      " [4 5 6]]\n"
     ]
    },
    {
     "data": {
      "text/plain": [
       "array([[3, 2, 3],\n",
       "       [4, 5, 6]])"
      ]
     },
     "execution_count": 45,
     "metadata": {},
     "output_type": "execute_result"
    }
   ],
   "source": [
    "a1 = np.array([[1, 2, 2], [4, 5, 6]])\n",
    "print(a1)\n",
    "\n",
    "a2 = np.array([[3, 2, 3], [4, 5, 6]])\n",
    "a2"
   ]
  },
  {
   "cell_type": "code",
   "execution_count": 47,
   "id": "7edc377d-6cbc-4370-b68f-bfe8d3e2537b",
   "metadata": {},
   "outputs": [
    {
     "data": {
      "text/plain": [
       "array([[False, False, False],\n",
       "       [ True,  True,  True]])"
      ]
     },
     "execution_count": 47,
     "metadata": {},
     "output_type": "execute_result"
    }
   ],
   "source": [
    "a1 >= 3"
   ]
  },
  {
   "cell_type": "code",
   "execution_count": 49,
   "id": "33b34646-a12c-40f7-a9a9-3d30b91abd66",
   "metadata": {},
   "outputs": [
    {
     "data": {
      "text/plain": [
       "array([4, 5, 6])"
      ]
     },
     "execution_count": 49,
     "metadata": {},
     "output_type": "execute_result"
    }
   ],
   "source": [
    "a1[a1 >= 3]"
   ]
  },
  {
   "cell_type": "code",
   "execution_count": 51,
   "id": "5ed1cda3-9256-49bc-9c5e-32c883a18865",
   "metadata": {},
   "outputs": [
    {
     "data": {
      "text/plain": [
       "array([[False, False, False],\n",
       "       [ True,  True, False]])"
      ]
     },
     "execution_count": 51,
     "metadata": {},
     "output_type": "execute_result"
    }
   ],
   "source": [
    "(a1 >= 3) & (a1 <= 5)"
   ]
  },
  {
   "cell_type": "code",
   "execution_count": 53,
   "id": "df784f75-17f1-4715-9348-cb5ed361adb7",
   "metadata": {},
   "outputs": [
    {
     "data": {
      "text/plain": [
       "array([4, 5])"
      ]
     },
     "execution_count": 53,
     "metadata": {},
     "output_type": "execute_result"
    }
   ],
   "source": [
    "a1[(a1 >= 3) & (a1 <= 5)]"
   ]
  },
  {
   "cell_type": "code",
   "execution_count": 55,
   "id": "624e66bc-1618-4f55-bc6b-37fca4a144b5",
   "metadata": {},
   "outputs": [
    {
     "data": {
      "text/plain": [
       "array([[False,  True, False],\n",
       "       [ True,  True,  True]])"
      ]
     },
     "execution_count": 55,
     "metadata": {},
     "output_type": "execute_result"
    }
   ],
   "source": [
    "a1 == a2"
   ]
  },
  {
   "cell_type": "code",
   "execution_count": 57,
   "id": "275d396f-be2d-4e39-802d-ff009c258490",
   "metadata": {},
   "outputs": [
    {
     "data": {
      "text/plain": [
       "array([2, 4, 5, 6])"
      ]
     },
     "execution_count": 57,
     "metadata": {},
     "output_type": "execute_result"
    }
   ],
   "source": [
    "a1[a1 == a2]"
   ]
  },
  {
   "cell_type": "markdown",
   "id": "3ff6dd78-a87c-41fa-a539-6ca62f53b8d4",
   "metadata": {},
   "source": [
    "<h4>Transposing an Array :</h4>"
   ]
  },
  {
   "cell_type": "code",
   "execution_count": 60,
   "id": "213c9914-779f-4c7c-a886-0002a2e220d2",
   "metadata": {},
   "outputs": [
    {
     "name": "stdout",
     "output_type": "stream",
     "text": [
      "[[1 2 2]\n",
      " [4 5 6]]\n"
     ]
    }
   ],
   "source": [
    "a1 = np.array([[1, 2, 2], [4, 5, 6]])\n",
    "print(a1)"
   ]
  },
  {
   "cell_type": "code",
   "execution_count": 62,
   "id": "9b6712fb-47e2-4448-a355-b4d0b5de5346",
   "metadata": {},
   "outputs": [
    {
     "name": "stdout",
     "output_type": "stream",
     "text": [
      "[[1 4]\n",
      " [2 5]\n",
      " [2 6]]\n",
      "\n",
      "[[1 4]\n",
      " [2 5]\n",
      " [2 6]]\n",
      "\n",
      "[[1 4]\n",
      " [2 5]\n",
      " [2 6]]\n",
      "\n",
      "[[1 2 2]\n",
      " [4 5 6]]\n"
     ]
    }
   ],
   "source": [
    "print(np.transpose(a1))\n",
    "print()\n",
    "print(a1.transpose())\n",
    "print()\n",
    "print(a1.T)\n",
    "print()\n",
    "print(a1)"
   ]
  },
  {
   "cell_type": "code",
   "execution_count": 66,
   "id": "c86ad509-d5c4-48b3-8206-18cbcc1834a6",
   "metadata": {},
   "outputs": [
    {
     "name": "stdout",
     "output_type": "stream",
     "text": [
      "[[[1 2 2]\n",
      "  [4 5 6]]\n",
      "\n",
      " [[1 2 2]\n",
      "  [4 5 6]]]\n"
     ]
    }
   ],
   "source": [
    "c1 = np.array([[[1, 2, 2], [4, 5, 6]], [[1, 2, 2], [4, 5, 6]]])\n",
    "print(c1)"
   ]
  },
  {
   "cell_type": "code",
   "execution_count": 68,
   "id": "be2bc7de-a9d7-4079-be05-ef932d8d288e",
   "metadata": {},
   "outputs": [
    {
     "data": {
      "text/plain": [
       "array([[[1, 1],\n",
       "        [4, 4]],\n",
       "\n",
       "       [[2, 2],\n",
       "        [5, 5]],\n",
       "\n",
       "       [[2, 2],\n",
       "        [6, 6]]])"
      ]
     },
     "execution_count": 68,
     "metadata": {},
     "output_type": "execute_result"
    }
   ],
   "source": [
    "c1.transpose()"
   ]
  },
  {
   "cell_type": "markdown",
   "id": "d4d6f89b-20cd-488a-ada7-de3c2d2e9954",
   "metadata": {},
   "source": [
    "<h4>Stacking :</h4>"
   ]
  },
  {
   "cell_type": "code",
   "execution_count": 71,
   "id": "cad09eb5-28e6-4c11-a8c2-676d1f17cd93",
   "metadata": {},
   "outputs": [
    {
     "data": {
      "text/plain": [
       "array([[1, 2, 2],\n",
       "       [4, 5, 6]])"
      ]
     },
     "execution_count": 71,
     "metadata": {},
     "output_type": "execute_result"
    }
   ],
   "source": [
    "a1 = np.array([[1, 2, 2], [4, 5, 6]])\n",
    "a1"
   ]
  },
  {
   "cell_type": "code",
   "execution_count": 73,
   "id": "4fd59a0f-6b5a-40a2-905d-f4c8207c5ee2",
   "metadata": {},
   "outputs": [
    {
     "data": {
      "text/plain": [
       "array([1, 2, 2, 4, 5, 6])"
      ]
     },
     "execution_count": 73,
     "metadata": {},
     "output_type": "execute_result"
    }
   ],
   "source": [
    "b1 = np.hstack(a1)\n",
    "b1"
   ]
  },
  {
   "cell_type": "code",
   "execution_count": 75,
   "id": "a4b44506-cf5b-4bfc-b096-16849e9e19a1",
   "metadata": {},
   "outputs": [
    {
     "data": {
      "text/plain": [
       "array([[1, 2, 2],\n",
       "       [4, 5, 6]])"
      ]
     },
     "execution_count": 75,
     "metadata": {},
     "output_type": "execute_result"
    }
   ],
   "source": [
    "b2 = np.vstack(a1)\n",
    "b2"
   ]
  },
  {
   "cell_type": "code",
   "execution_count": 77,
   "id": "62c5830c-e1cf-4ea2-a5ba-053186c91630",
   "metadata": {},
   "outputs": [
    {
     "data": {
      "text/plain": [
       "array([[1],\n",
       "       [2],\n",
       "       [2],\n",
       "       [4],\n",
       "       [5],\n",
       "       [6]])"
      ]
     },
     "execution_count": 77,
     "metadata": {},
     "output_type": "execute_result"
    }
   ],
   "source": [
    "b3 = np.vstack(b1)\n",
    "b3"
   ]
  },
  {
   "cell_type": "markdown",
   "id": "efe3d62e-316d-48ee-950f-25c17f8b9373",
   "metadata": {},
   "source": [
    "<h4>Insert and Delete :</h4>"
   ]
  },
  {
   "cell_type": "code",
   "execution_count": 84,
   "id": "25558864-3214-4504-a225-1f8ada5e571d",
   "metadata": {},
   "outputs": [
    {
     "name": "stdout",
     "output_type": "stream",
     "text": [
      "[0 1 2 3 4 5 6 7 8 9]\n",
      "\n",
      "[[1 2 2]\n",
      " [4 5 6]]\n",
      "\n",
      "[1 2 0 1 2 3 4 5 6 7 8 9 2 4 5 6]\n"
     ]
    }
   ],
   "source": [
    "aa = np.arange(10)\n",
    "print(aa)\n",
    "print()\n",
    "\n",
    "bb = np.array([[1, 2, 2], [4, 5, 6]])\n",
    "print(bb)\n",
    "print()\n",
    "\n",
    "cc = np.insert(bb, 2, aa)\n",
    "print(cc)"
   ]
  },
  {
   "cell_type": "markdown",
   "id": "ff0dd315-a7a0-43e4-aa00-f1503bc2d1c1",
   "metadata": {},
   "source": [
    "<h4>np.delete(arr, obj, axis = None)</h4>\n",
    "<h6>arr --> array to delete element from</h6>\n",
    "<h6>obj --> indices at which values are deleted</h6>\n",
    "<h6>axis --> by default flattend array (axis = 0)</h6>\n",
    "<h6>axis = 0 (rows)</h6>\n",
    "<h6>axis = 1 (columns)</h6>"
   ]
  },
  {
   "cell_type": "code",
   "execution_count": 87,
   "id": "1e72c972-c17d-4e85-ba05-5ca885b5d889",
   "metadata": {},
   "outputs": [
    {
     "name": "stdout",
     "output_type": "stream",
     "text": [
      "[0 1 2 3 4 5 6 7 8 9]\n",
      "[0 1 3 4 5 6 7 8 9]\n"
     ]
    }
   ],
   "source": [
    "a1 = np.arange(10)\n",
    "print(a1)\n",
    "\n",
    "a2 = np.delete(a1, 2)\n",
    "print(a2)"
   ]
  },
  {
   "cell_type": "code",
   "execution_count": 89,
   "id": "9ecc1db0-f453-4d29-93d5-b3621e2e2672",
   "metadata": {},
   "outputs": [
    {
     "name": "stdout",
     "output_type": "stream",
     "text": [
      "[0 1 2 3 4 5 6 7 8 9]\n",
      "[0 3 4 5 6 7 8 9]\n"
     ]
    }
   ],
   "source": [
    "b1 = np.arange(10)\n",
    "print(b1)\n",
    "\n",
    "indices = [1,2]\n",
    "b2 = np.delete(b1, obj = indices, axis = 0)\n",
    "print(b2)"
   ]
  },
  {
   "cell_type": "code",
   "execution_count": 91,
   "id": "532e45e5-ae21-48b2-8e55-9470533a4c9d",
   "metadata": {},
   "outputs": [
    {
     "name": "stdout",
     "output_type": "stream",
     "text": [
      "[[1 2 2]\n",
      " [4 5 6]]\n",
      "[[1 2]\n",
      " [4 6]]\n"
     ]
    }
   ],
   "source": [
    "c1 = np.array([[1, 2, 2], [4, 5, 6]])\n",
    "print(c1)\n",
    "\n",
    "c2 = np.delete(c1, [1,1], axis = 1)\n",
    "print(c2)"
   ]
  },
  {
   "cell_type": "markdown",
   "id": "78a5f283-8b78-4039-97e0-1bec250f5f13",
   "metadata": {},
   "source": [
    "<h4>Serching Arrays :</h4> "
   ]
  },
  {
   "cell_type": "code",
   "execution_count": 94,
   "id": "20005489-2e4b-4b33-9d8e-33e8ba10ed72",
   "metadata": {},
   "outputs": [
    {
     "name": "stdout",
     "output_type": "stream",
     "text": [
      "[1 2 2 4 5 6 3 4 1 5 6 7]\n"
     ]
    }
   ],
   "source": [
    "dd1 = np.array([1, 2, 2, 4, 5, 6, 3, 4, 1, 5, 6, 7])\n",
    "print(dd1)"
   ]
  },
  {
   "cell_type": "code",
   "execution_count": 96,
   "id": "73d70df2-5c5f-4033-ae47-924b42b5e34b",
   "metadata": {},
   "outputs": [
    {
     "data": {
      "text/plain": [
       "(array([ 3,  4,  5,  7,  9, 10, 11], dtype=int64),)"
      ]
     },
     "execution_count": 96,
     "metadata": {},
     "output_type": "execute_result"
    }
   ],
   "source": [
    "np.where(dd1 > 3)"
   ]
  },
  {
   "cell_type": "code",
   "execution_count": 98,
   "id": "8ac5e231-b6ba-4115-aa78-7bff44cdefe5",
   "metadata": {},
   "outputs": [
    {
     "data": {
      "text/plain": [
       "(array([1, 2], dtype=int64),)"
      ]
     },
     "execution_count": 98,
     "metadata": {},
     "output_type": "execute_result"
    }
   ],
   "source": [
    "np.where(dd1 == 2)"
   ]
  },
  {
   "cell_type": "code",
   "execution_count": 100,
   "id": "a37e49a7-aad4-4c6b-b6be-cced16aa26b3",
   "metadata": {},
   "outputs": [
    {
     "data": {
      "text/plain": [
       "(array([ 1,  2,  3,  5,  7, 10], dtype=int64),)"
      ]
     },
     "execution_count": 100,
     "metadata": {},
     "output_type": "execute_result"
    }
   ],
   "source": [
    "np.where(dd1 % 2 == 0)"
   ]
  },
  {
   "cell_type": "code",
   "execution_count": 102,
   "id": "791ff683-e8be-4645-b16f-bebbffde4873",
   "metadata": {},
   "outputs": [
    {
     "data": {
      "text/plain": [
       "array([0, 0, 0, 4, 5, 6, 3, 4, 0, 5, 6, 7])"
      ]
     },
     "execution_count": 102,
     "metadata": {},
     "output_type": "execute_result"
    }
   ],
   "source": [
    "np.where(dd1 > 2, dd1 , 0)"
   ]
  },
  {
   "cell_type": "code",
   "execution_count": 104,
   "id": "3075d2ec-7b61-4760-b533-8f605198c015",
   "metadata": {
    "scrolled": true
   },
   "outputs": [
    {
     "name": "stdout",
     "output_type": "stream",
     "text": [
      "['__add__', '__class__', '__class_getitem__', '__contains__', '__delattr__', '__delitem__', '__dir__', '__doc__', '__eq__', '__format__', '__ge__', '__getattribute__', '__getitem__', '__getstate__', '__gt__', '__hash__', '__iadd__', '__imul__', '__init__', '__init_subclass__', '__iter__', '__le__', '__len__', '__lt__', '__mul__', '__ne__', '__new__', '__reduce__', '__reduce_ex__', '__repr__', '__reversed__', '__rmul__', '__setattr__', '__setitem__', '__sizeof__', '__str__', '__subclasshook__', 'append', 'clear', 'copy', 'count', 'extend', 'index', 'insert', 'pop', 'remove', 'reverse', 'sort']\n",
      "\n",
      "['T', '__abs__', '__add__', '__and__', '__array__', '__array_finalize__', '__array_function__', '__array_interface__', '__array_prepare__', '__array_priority__', '__array_struct__', '__array_ufunc__', '__array_wrap__', '__bool__', '__buffer__', '__class__', '__class_getitem__', '__complex__', '__contains__', '__copy__', '__deepcopy__', '__delattr__', '__delitem__', '__dir__', '__divmod__', '__dlpack__', '__dlpack_device__', '__doc__', '__eq__', '__float__', '__floordiv__', '__format__', '__ge__', '__getattribute__', '__getitem__', '__getstate__', '__gt__', '__hash__', '__iadd__', '__iand__', '__ifloordiv__', '__ilshift__', '__imatmul__', '__imod__', '__imul__', '__index__', '__init__', '__init_subclass__', '__int__', '__invert__', '__ior__', '__ipow__', '__irshift__', '__isub__', '__iter__', '__itruediv__', '__ixor__', '__le__', '__len__', '__lshift__', '__lt__', '__matmul__', '__mod__', '__mul__', '__ne__', '__neg__', '__new__', '__or__', '__pos__', '__pow__', '__radd__', '__rand__', '__rdivmod__', '__reduce__', '__reduce_ex__', '__repr__', '__rfloordiv__', '__rlshift__', '__rmatmul__', '__rmod__', '__rmul__', '__ror__', '__rpow__', '__rrshift__', '__rshift__', '__rsub__', '__rtruediv__', '__rxor__', '__setattr__', '__setitem__', '__setstate__', '__sizeof__', '__str__', '__sub__', '__subclasshook__', '__truediv__', '__xor__', 'all', 'any', 'argmax', 'argmin', 'argpartition', 'argsort', 'astype', 'base', 'byteswap', 'choose', 'clip', 'compress', 'conj', 'conjugate', 'copy', 'ctypes', 'cumprod', 'cumsum', 'data', 'diagonal', 'dot', 'dtype', 'dump', 'dumps', 'fill', 'flags', 'flat', 'flatten', 'getfield', 'imag', 'item', 'itemset', 'itemsize', 'max', 'mean', 'min', 'nbytes', 'ndim', 'newbyteorder', 'nonzero', 'partition', 'prod', 'ptp', 'put', 'ravel', 'real', 'repeat', 'reshape', 'resize', 'round', 'searchsorted', 'setfield', 'setflags', 'shape', 'size', 'sort', 'squeeze', 'std', 'strides', 'sum', 'swapaxes', 'take', 'tobytes', 'tofile', 'tolist', 'tostring', 'trace', 'transpose', 'var', 'view']\n"
     ]
    }
   ],
   "source": [
    "print(dir(list))\n",
    "print()\n",
    "print(dir(dd1))"
   ]
  },
  {
   "cell_type": "markdown",
   "id": "7434b876-0fc3-4c2c-9bfa-b4a6006d65f7",
   "metadata": {},
   "source": [
    "<h4>Mathematical Operations : </h4>"
   ]
  },
  {
   "cell_type": "code",
   "execution_count": 107,
   "id": "2ea75559-ba63-4363-b978-8ee187aba9c0",
   "metadata": {},
   "outputs": [
    {
     "data": {
      "text/plain": [
       "array([[1, 2, 2],\n",
       "       [4, 5, 6]])"
      ]
     },
     "execution_count": 107,
     "metadata": {},
     "output_type": "execute_result"
    }
   ],
   "source": [
    "mm = np.array([[1, 2, 2], [4, 5, 6]])\n",
    "mm"
   ]
  },
  {
   "cell_type": "code",
   "execution_count": 109,
   "id": "33f5f212-61a7-435e-bc15-e3e7330051ae",
   "metadata": {},
   "outputs": [
    {
     "data": {
      "text/plain": [
       "array([[ 0.84147098,  0.90929743,  0.90929743],\n",
       "       [-0.7568025 , -0.95892427, -0.2794155 ]])"
      ]
     },
     "execution_count": 109,
     "metadata": {},
     "output_type": "execute_result"
    }
   ],
   "source": [
    "np.sin(mm)"
   ]
  },
  {
   "cell_type": "code",
   "execution_count": 111,
   "id": "3b5708ba-cdd5-4f67-99e5-f9a330651cc8",
   "metadata": {},
   "outputs": [
    {
     "data": {
      "text/plain": [
       "array([[ 0.54030231, -0.41614684, -0.41614684],\n",
       "       [-0.65364362,  0.28366219,  0.96017029]])"
      ]
     },
     "execution_count": 111,
     "metadata": {},
     "output_type": "execute_result"
    }
   ],
   "source": [
    "np.cos(mm)"
   ]
  },
  {
   "cell_type": "code",
   "execution_count": 113,
   "id": "24c65c20-1548-4e5e-ab83-e2c8c8c90001",
   "metadata": {},
   "outputs": [
    {
     "data": {
      "text/plain": [
       "array([[ 1.55740772, -2.18503986, -2.18503986],\n",
       "       [ 1.15782128, -3.38051501, -0.29100619]])"
      ]
     },
     "execution_count": 113,
     "metadata": {},
     "output_type": "execute_result"
    }
   ],
   "source": [
    "(np.sin(mm))/(np.cos(mm))"
   ]
  },
  {
   "cell_type": "code",
   "execution_count": 115,
   "id": "0cc53edd-f78e-4427-804c-2f3e97cce679",
   "metadata": {},
   "outputs": [
    {
     "data": {
      "text/plain": [
       "array([[  2.71828183,   7.3890561 ,   7.3890561 ],\n",
       "       [ 54.59815003, 148.4131591 , 403.42879349]])"
      ]
     },
     "execution_count": 115,
     "metadata": {},
     "output_type": "execute_result"
    }
   ],
   "source": [
    "np.exp(mm)"
   ]
  },
  {
   "cell_type": "code",
   "execution_count": 117,
   "id": "bae6f647-07ba-4f95-b938-cb1ce3d5bdca",
   "metadata": {},
   "outputs": [
    {
     "data": {
      "text/plain": [
       "20"
      ]
     },
     "execution_count": 117,
     "metadata": {},
     "output_type": "execute_result"
    }
   ],
   "source": [
    "np.sum(mm)"
   ]
  },
  {
   "cell_type": "code",
   "execution_count": 119,
   "id": "49d9071c-7e33-4a8b-8f24-a4f590a49f90",
   "metadata": {},
   "outputs": [
    {
     "data": {
      "text/plain": [
       "array([5, 7, 8])"
      ]
     },
     "execution_count": 119,
     "metadata": {},
     "output_type": "execute_result"
    }
   ],
   "source": [
    "np.sum(mm, axis = 0)"
   ]
  },
  {
   "cell_type": "code",
   "execution_count": 121,
   "id": "6ab3b7d9-d420-4234-8e9e-ee2fa8d3d4eb",
   "metadata": {},
   "outputs": [
    {
     "data": {
      "text/plain": [
       "array([ 5, 15])"
      ]
     },
     "execution_count": 121,
     "metadata": {},
     "output_type": "execute_result"
    }
   ],
   "source": [
    "np.sum(mm,axis = 1)"
   ]
  },
  {
   "cell_type": "markdown",
   "id": "d5b90f16-f978-425f-ab63-3e0723daa0a3",
   "metadata": {},
   "source": [
    "<h4>Mean : The Average Value (SUM / COUNT) </h4>"
   ]
  },
  {
   "cell_type": "code",
   "execution_count": 124,
   "id": "1df27f76-000a-40f4-824f-c71be88d21ad",
   "metadata": {},
   "outputs": [
    {
     "data": {
      "text/plain": [
       "3.3333333333333335"
      ]
     },
     "execution_count": 124,
     "metadata": {},
     "output_type": "execute_result"
    }
   ],
   "source": [
    "np.mean(mm)"
   ]
  },
  {
   "cell_type": "markdown",
   "id": "a3a4e2f2-8ae9-45ff-b0bf-0d9b332ee2d4",
   "metadata": {},
   "source": [
    "<h4>Median : The Middle Value</h4>\n",
    "<h5>Steps:</h5>\n",
    "<h6>1. Ascending Order</h6>\n",
    "<h6>2. Pick Middle Number</h6>\n",
    "<h6>3. If there are two middle numbers, add them and divide by two</h6>"
   ]
  },
  {
   "cell_type": "code",
   "execution_count": 127,
   "id": "5a7238f4-91fa-41f4-86d8-2c96f54a4c38",
   "metadata": {},
   "outputs": [
    {
     "data": {
      "text/plain": [
       "3.0"
      ]
     },
     "execution_count": 127,
     "metadata": {},
     "output_type": "execute_result"
    }
   ],
   "source": [
    "np.median(mm)"
   ]
  },
  {
   "cell_type": "markdown",
   "id": "19df9085-8d72-4b2e-b129-19848ac72d2b",
   "metadata": {},
   "source": [
    "<h4>Mode : The Most Frequent Value</h4>\n",
    "<h5>Special Cases:</h5>\n",
    "<h6>1. No mode if all the numbers occur the same amount of times</h6>\n",
    "<h6>2. More than one mode if more than one number is the most</h6>"
   ]
  },
  {
   "cell_type": "code",
   "execution_count": 130,
   "id": "b27ed947-f224-4890-b1b9-fe1c41b58f2d",
   "metadata": {},
   "outputs": [
    {
     "data": {
      "text/plain": [
       "ModeResult(mode=array([1, 2, 2], dtype=int64), count=array([1, 1, 1], dtype=int64))"
      ]
     },
     "execution_count": 130,
     "metadata": {},
     "output_type": "execute_result"
    }
   ],
   "source": [
    "from scipy import stats\n",
    "stats.mode(mm)"
   ]
  },
  {
   "cell_type": "markdown",
   "id": "19a6e41a-bb04-4e32-82be-e8ec99d2bc25",
   "metadata": {},
   "source": [
    "<h4>Range: Diffence between Highest and Lowest Numbers</h4>\n",
    "<h5>Steps: </h5>\n",
    "<h6>1. Ascending Order</h6>\n",
    "<h6>2. Range = Max Value - Min Value</h6>\n"
   ]
  },
  {
   "cell_type": "code",
   "execution_count": 132,
   "id": "df30d914-91ce-4073-adb7-588ffc0ba190",
   "metadata": {},
   "outputs": [
    {
     "data": {
      "text/plain": [
       "5"
      ]
     },
     "execution_count": 132,
     "metadata": {},
     "output_type": "execute_result"
    }
   ],
   "source": [
    "np.max(mm) - np.min(mm)"
   ]
  },
  {
   "cell_type": "code",
   "execution_count": null,
   "id": "f8d70695-bd32-41cd-8262-90ba9f11d668",
   "metadata": {},
   "outputs": [],
   "source": []
  }
 ],
 "metadata": {
  "kernelspec": {
   "display_name": "Python [conda env:base] *",
   "language": "python",
   "name": "conda-base-py"
  },
  "language_info": {
   "codemirror_mode": {
    "name": "ipython",
    "version": 3
   },
   "file_extension": ".py",
   "mimetype": "text/x-python",
   "name": "python",
   "nbconvert_exporter": "python",
   "pygments_lexer": "ipython3",
   "version": "3.12.7"
  }
 },
 "nbformat": 4,
 "nbformat_minor": 5
}
