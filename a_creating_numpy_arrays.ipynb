{
 "cells": [
  {
   "cell_type": "markdown",
   "id": "6430e400-9ca2-425e-bae7-82ca0d7b31fb",
   "metadata": {},
   "source": [
    "<img src=\"numpy-logo.svg\" alt=\"NumPy Logo\" style=\"width: 300px; height: 200px;\">\n",
    "<h1>Creating NumPy Arrays</h1>\n"
   ]
  },
  {
   "cell_type": "code",
   "execution_count": 173,
   "id": "65431908-fabd-476d-9462-9c2b5fdd4cc3",
   "metadata": {},
   "outputs": [],
   "source": [
    "import numpy as np\n",
    "import pandas as pd\n",
    "import matplotlib.pyplot as plt"
   ]
  },
  {
   "cell_type": "code",
   "execution_count": 175,
   "id": "aaea29e8-6b1a-4a8c-8628-73e762c793f8",
   "metadata": {},
   "outputs": [
    {
     "data": {
      "text/plain": [
       "'1.26.4'"
      ]
     },
     "execution_count": 175,
     "metadata": {},
     "output_type": "execute_result"
    }
   ],
   "source": [
    "np.__version__"
   ]
  },
  {
   "cell_type": "markdown",
   "id": "c1b60045-c723-45c4-ac66-d745ebd7a810",
   "metadata": {},
   "source": [
    "<h3>Creating an Array:</h3>"
   ]
  },
  {
   "cell_type": "markdown",
   "id": "169ebfb0-ab9f-4485-9708-65bae839c1f2",
   "metadata": {},
   "source": [
    "<h4>1. Using array() function: </h4>"
   ]
  },
  {
   "cell_type": "code",
   "execution_count": 179,
   "id": "7ebc6875-1415-45fe-aa2a-c77a1a995184",
   "metadata": {},
   "outputs": [
    {
     "data": {
      "text/plain": [
       "array([[1, 2, 3, 4],\n",
       "       [5, 6, 7, 8]])"
      ]
     },
     "execution_count": 179,
     "metadata": {},
     "output_type": "execute_result"
    }
   ],
   "source": [
    "my_array = np.array([[1, 2, 3, 4], [5, 6, 7, 8]])\n",
    "my_array"
   ]
  },
  {
   "cell_type": "markdown",
   "id": "c0eb5b09-c370-4da7-98ae-750c00dfbf01",
   "metadata": {},
   "source": [
    "<h4>2. Using arange() function:</h4>"
   ]
  },
  {
   "cell_type": "code",
   "execution_count": 182,
   "id": "5c8356f0-cb3e-41cb-9ac0-4d66b8e9d82f",
   "metadata": {},
   "outputs": [
    {
     "data": {
      "text/plain": [
       "array([ 1,  2,  3,  4,  5,  6,  7,  8,  9, 10])"
      ]
     },
     "execution_count": 182,
     "metadata": {},
     "output_type": "execute_result"
    }
   ],
   "source": [
    "my_array = np.arange(1, 11)\n",
    "my_array"
   ]
  },
  {
   "cell_type": "code",
   "execution_count": 184,
   "id": "65ac520b-c9a4-4cb9-8dc8-77d82120dbeb",
   "metadata": {},
   "outputs": [
    {
     "data": {
      "text/plain": [
       "array([1, 3, 5, 7, 9])"
      ]
     },
     "execution_count": 184,
     "metadata": {},
     "output_type": "execute_result"
    }
   ],
   "source": [
    "my_array = np.arange(1, 11, 2)\n",
    "my_array"
   ]
  },
  {
   "cell_type": "markdown",
   "id": "196a2bbf-71ef-43cf-b7a9-4d11b3dc3382",
   "metadata": {},
   "source": [
    "<h4>3. Using eye() function:</h4>"
   ]
  },
  {
   "cell_type": "code",
   "execution_count": 187,
   "id": "f6092fae-247f-4acd-b119-adc443abd422",
   "metadata": {},
   "outputs": [
    {
     "data": {
      "text/plain": [
       "array([[1., 0., 0., 0., 0., 0.],\n",
       "       [0., 1., 0., 0., 0., 0.],\n",
       "       [0., 0., 1., 0., 0., 0.],\n",
       "       [0., 0., 0., 1., 0., 0.],\n",
       "       [0., 0., 0., 0., 1., 0.],\n",
       "       [0., 0., 0., 0., 0., 1.]])"
      ]
     },
     "execution_count": 187,
     "metadata": {},
     "output_type": "execute_result"
    }
   ],
   "source": [
    "my_array = np.eye(6)\n",
    "my_array"
   ]
  },
  {
   "cell_type": "code",
   "execution_count": 189,
   "id": "fb5519f9-5c06-4043-ad70-e32644c7a3b1",
   "metadata": {},
   "outputs": [
    {
     "data": {
      "text/plain": [
       "array([[1, 0, 0, 0],\n",
       "       [0, 1, 0, 0],\n",
       "       [0, 0, 1, 0],\n",
       "       [0, 0, 0, 1]])"
      ]
     },
     "execution_count": 189,
     "metadata": {},
     "output_type": "execute_result"
    }
   ],
   "source": [
    "my_array = np.eye(4, dtype=int)\n",
    "my_array"
   ]
  },
  {
   "cell_type": "markdown",
   "id": "410f18f6-b770-408a-914f-713ddd22eb5b",
   "metadata": {},
   "source": [
    "<h4>4. Using zeros() function:</h4>"
   ]
  },
  {
   "cell_type": "code",
   "execution_count": 192,
   "id": "37fafc2e-1652-478b-975f-04ee7552cce4",
   "metadata": {},
   "outputs": [
    {
     "data": {
      "text/plain": [
       "array([[0., 0., 0.],\n",
       "       [0., 0., 0.],\n",
       "       [0., 0., 0.],\n",
       "       [0., 0., 0.],\n",
       "       [0., 0., 0.]])"
      ]
     },
     "execution_count": 192,
     "metadata": {},
     "output_type": "execute_result"
    }
   ],
   "source": [
    "my_array = np.zeros((5, 3))\n",
    "my_array"
   ]
  },
  {
   "cell_type": "code",
   "execution_count": 194,
   "id": "0d8ec848-2f88-43d5-b5c5-43f50da18484",
   "metadata": {},
   "outputs": [
    {
     "data": {
      "text/plain": [
       "array([[0, 0, 0],\n",
       "       [0, 0, 0],\n",
       "       [0, 0, 0],\n",
       "       [0, 0, 0],\n",
       "       [0, 0, 0]])"
      ]
     },
     "execution_count": 194,
     "metadata": {},
     "output_type": "execute_result"
    }
   ],
   "source": [
    "my_array = np.zeros((5, 3), dtype = int)\n",
    "my_array"
   ]
  },
  {
   "cell_type": "markdown",
   "id": "f5857028-e754-45ab-87af-94857be6b1e5",
   "metadata": {},
   "source": [
    "<h4>5. Using ones() function:</h4>"
   ]
  },
  {
   "cell_type": "code",
   "execution_count": 197,
   "id": "79249faf-2c03-4ed4-962b-e62d959e1758",
   "metadata": {},
   "outputs": [
    {
     "data": {
      "text/plain": [
       "array([[1., 1., 1., 1.],\n",
       "       [1., 1., 1., 1.],\n",
       "       [1., 1., 1., 1.]])"
      ]
     },
     "execution_count": 197,
     "metadata": {},
     "output_type": "execute_result"
    }
   ],
   "source": [
    "my_array = np.ones((3, 4))\n",
    "my_array"
   ]
  },
  {
   "cell_type": "code",
   "execution_count": 199,
   "id": "6869eeca-a29a-487c-a269-29b28e939b9b",
   "metadata": {},
   "outputs": [
    {
     "data": {
      "text/plain": [
       "array([[1, 1, 1, 1],\n",
       "       [1, 1, 1, 1],\n",
       "       [1, 1, 1, 1]])"
      ]
     },
     "execution_count": 199,
     "metadata": {},
     "output_type": "execute_result"
    }
   ],
   "source": [
    "my_array = np.ones((3, 4), dtype = int)\n",
    "my_array"
   ]
  },
  {
   "cell_type": "markdown",
   "id": "35c580af-45a5-4df6-a2c1-2673da543ae6",
   "metadata": {},
   "source": [
    "<h4>6. Using full() function:</h4>"
   ]
  },
  {
   "cell_type": "code",
   "execution_count": 202,
   "id": "e324cabc-6df4-4753-a4cb-7c2cbf3a390a",
   "metadata": {},
   "outputs": [
    {
     "data": {
      "text/plain": [
       "array([[678., 678., 678., 678., 678., 678.],\n",
       "       [678., 678., 678., 678., 678., 678.],\n",
       "       [678., 678., 678., 678., 678., 678.],\n",
       "       [678., 678., 678., 678., 678., 678.],\n",
       "       [678., 678., 678., 678., 678., 678.]])"
      ]
     },
     "execution_count": 202,
     "metadata": {},
     "output_type": "execute_result"
    }
   ],
   "source": [
    "my_array = np.full((5, 6), 678.0)\n",
    "my_array"
   ]
  },
  {
   "cell_type": "code",
   "execution_count": 204,
   "id": "439a307f-1c57-4699-97e3-81190d51d4a4",
   "metadata": {},
   "outputs": [
    {
     "data": {
      "text/plain": [
       "array([[678., 678., 678., 678., 678., 678.],\n",
       "       [678., 678., 678., 678., 678., 678.],\n",
       "       [678., 678., 678., 678., 678., 678.],\n",
       "       [678., 678., 678., 678., 678., 678.],\n",
       "       [678., 678., 678., 678., 678., 678.]])"
      ]
     },
     "execution_count": 204,
     "metadata": {},
     "output_type": "execute_result"
    }
   ],
   "source": [
    "my_array = np.full((5, 6), 678, dtype = float)\n",
    "my_array"
   ]
  },
  {
   "cell_type": "markdown",
   "id": "2d5bcb91-2acb-4757-99a6-ea520eb118ea",
   "metadata": {},
   "source": [
    "<h4>7. Using diag() function:</h4>"
   ]
  },
  {
   "cell_type": "code",
   "execution_count": 207,
   "id": "9adb61d6-8ae9-42ff-8e2a-c28a70d8501a",
   "metadata": {},
   "outputs": [
    {
     "data": {
      "text/plain": [
       "array([[1, 0, 0, 0, 0],\n",
       "       [0, 2, 0, 0, 0],\n",
       "       [0, 0, 3, 0, 0],\n",
       "       [0, 0, 0, 4, 0],\n",
       "       [0, 0, 0, 0, 5]])"
      ]
     },
     "execution_count": 207,
     "metadata": {},
     "output_type": "execute_result"
    }
   ],
   "source": [
    "my_array = np.diag([1, 2, 3, 4, 5])\n",
    "my_array"
   ]
  },
  {
   "cell_type": "code",
   "execution_count": 209,
   "id": "6f6516d0-22d5-4eaf-8489-f559a7da0901",
   "metadata": {},
   "outputs": [
    {
     "data": {
      "text/plain": [
       "array([[1, 0, 0, 0, 0],\n",
       "       [0, 2, 0, 0, 0],\n",
       "       [0, 0, 3, 0, 0],\n",
       "       [0, 0, 0, 4, 0],\n",
       "       [0, 0, 0, 0, 5]])"
      ]
     },
     "execution_count": 209,
     "metadata": {},
     "output_type": "execute_result"
    }
   ],
   "source": [
    "my_list = [1, 2, 3, 4, 5]\n",
    "my_array = np.diag(my_list)\n",
    "my_array"
   ]
  },
  {
   "cell_type": "markdown",
   "id": "d59395e4-9849-44d9-9688-76c447149ef1",
   "metadata": {},
   "source": [
    "<h3>Dimensions of an Array :</h3>"
   ]
  },
  {
   "cell_type": "code",
   "execution_count": 212,
   "id": "9b84907d-cefe-4552-9fe3-eeb82fdfda2d",
   "metadata": {},
   "outputs": [
    {
     "data": {
      "text/plain": [
       "array(['1', '2', '3', '4', '5', '1'], dtype='<U11')"
      ]
     },
     "execution_count": 212,
     "metadata": {},
     "output_type": "execute_result"
    }
   ],
   "source": [
    "my_array = np.array([1, 2, 3, 4, 5, \"1\"])\n",
    "my_array"
   ]
  },
  {
   "cell_type": "code",
   "execution_count": 217,
   "id": "dfe4cced-5472-432f-849b-e85f61637e18",
   "metadata": {},
   "outputs": [
    {
     "data": {
      "text/plain": [
       "array(10)"
      ]
     },
     "execution_count": 217,
     "metadata": {},
     "output_type": "execute_result"
    }
   ],
   "source": [
    "# No dimension\n",
    "my_array1 = np.array(10)\n",
    "my_array1"
   ]
  },
  {
   "cell_type": "code",
   "execution_count": 219,
   "id": "3911811a-c62a-4da5-99cf-3a5651fcfc41",
   "metadata": {},
   "outputs": [
    {
     "data": {
      "text/plain": [
       "array([1, 2, 3, 4])"
      ]
     },
     "execution_count": 219,
     "metadata": {},
     "output_type": "execute_result"
    }
   ],
   "source": [
    "# One dimension\n",
    "my_array2 = np.array([1,2,3,4])\n",
    "my_array2"
   ]
  },
  {
   "cell_type": "code",
   "execution_count": 221,
   "id": "ee392c5c-7df8-4b4e-8235-c6ce06bd1a4b",
   "metadata": {},
   "outputs": [
    {
     "data": {
      "text/plain": [
       "array([[1, 2, 3, 4],\n",
       "       [5, 6, 7, 8]])"
      ]
     },
     "execution_count": 221,
     "metadata": {},
     "output_type": "execute_result"
    }
   ],
   "source": [
    "# Two dimension\n",
    "my_array3 = np.array([[1,2,3,4],[5,6,7,8]])\n",
    "my_array3"
   ]
  },
  {
   "cell_type": "code",
   "execution_count": 223,
   "id": "7b2d3c6c-5c5b-4d39-9a1a-a0a99fe0daaa",
   "metadata": {},
   "outputs": [
    {
     "data": {
      "text/plain": [
       "array([[[1, 2, 3, 4],\n",
       "        [5, 6, 7, 8]],\n",
       "\n",
       "       [[1, 2, 3, 4],\n",
       "        [5, 6, 7, 8]]])"
      ]
     },
     "execution_count": 223,
     "metadata": {},
     "output_type": "execute_result"
    }
   ],
   "source": [
    "# Three dimension\n",
    "my_array4 =np.array([[[1,2,3,4],[5,6,7,8]],[[1,2,3,4],[5,6,7,8]]])\n",
    "my_array4"
   ]
  },
  {
   "cell_type": "code",
   "execution_count": 225,
   "id": "be81dc87-a670-452d-9b5e-c9e88166d0f0",
   "metadata": {},
   "outputs": [
    {
     "name": "stdout",
     "output_type": "stream",
     "text": [
      "dimension of my_array1: 0\n",
      "dimension of my_array2: 1\n",
      "dimension of my_array3: 2\n",
      "dimension of my_array4: 3\n"
     ]
    }
   ],
   "source": [
    "print(f\"dimension of my_array1: {my_array1.ndim}\")\n",
    "print(f\"dimension of my_array2: {my_array2.ndim}\")\n",
    "print(f\"dimension of my_array3: {my_array3.ndim}\")\n",
    "print(f\"dimension of my_array4: {my_array4.ndim}\")"
   ]
  },
  {
   "cell_type": "code",
   "execution_count": 227,
   "id": "0c81af0b-d675-45b8-9a56-85ab9abb29d5",
   "metadata": {},
   "outputs": [
    {
     "name": "stdout",
     "output_type": "stream",
     "text": [
      "10\n",
      "shape of my_array1: () --> mens no dimension\n",
      "\n",
      "[1 2 3 4]\n",
      "shape of my_array2: (4,) --> mens 1 dimension\n",
      "\n",
      "[[1 2 3 4]\n",
      " [5 6 7 8]]\n",
      "shape of my_array3: (2, 4) --> mens 2 dimension\n",
      "\n",
      "[[[1 2 3 4]\n",
      "  [5 6 7 8]]\n",
      "\n",
      " [[1 2 3 4]\n",
      "  [5 6 7 8]]]\n",
      "shape of my_array4: (2, 2, 4) --> mens 3 dimension\n"
     ]
    }
   ],
   "source": [
    "print(my_array1)\n",
    "print(f\"shape of my_array1: {my_array1.shape} --> mens no dimension\")\n",
    "print()\n",
    "print(my_array2)\n",
    "print(f\"shape of my_array2: {my_array2.shape} --> mens 1 dimension\")\n",
    "print()\n",
    "print(my_array3)\n",
    "print(f\"shape of my_array3: {my_array3.shape} --> mens 2 dimension\")\n",
    "print()\n",
    "print(my_array4)\n",
    "print(f\"shape of my_array4: {my_array4.shape} --> mens 3 dimension\")\n"
   ]
  },
  {
   "cell_type": "code",
   "execution_count": 229,
   "id": "99e52eab-48ab-4bc5-9d63-d1b8ca46bd33",
   "metadata": {},
   "outputs": [
    {
     "name": "stdout",
     "output_type": "stream",
     "text": [
      "The data stored in my_array1: int32\n",
      "The data stored in my_array2: int32\n",
      "The data stored in my_array3: int32\n",
      "The data stored in my_array4: int32\n"
     ]
    }
   ],
   "source": [
    "print(f\"The data stored in my_array1: {my_array1.dtype}\")\n",
    "print(f\"The data stored in my_array2: {my_array2.dtype}\")\n",
    "print(f\"The data stored in my_array3: {my_array3.dtype}\")\n",
    "print(f\"The data stored in my_array4: {my_array4.dtype}\")"
   ]
  },
  {
   "cell_type": "code",
   "execution_count": 231,
   "id": "2a56263c-687b-46d8-99a7-70d547b410cb",
   "metadata": {},
   "outputs": [
    {
     "name": "stdout",
     "output_type": "stream",
     "text": [
      "The data type of my_array1: <class 'numpy.ndarray'>\n",
      "The data type of my_array2: <class 'numpy.ndarray'>\n",
      "The data type of my_array3: <class 'numpy.ndarray'>\n",
      "The data type of my_array4: <class 'numpy.ndarray'>\n"
     ]
    }
   ],
   "source": [
    "print(f\"The data type of my_array1: {type(my_array1)}\")\n",
    "print(f\"The data type of my_array2: {type(my_array2)}\")\n",
    "print(f\"The data type of my_array3: {type(my_array3)}\")\n",
    "print(f\"The data type of my_array4: {type(my_array4)}\")"
   ]
  },
  {
   "cell_type": "code",
   "execution_count": 233,
   "id": "8859dc77-9a0a-4bdf-9508-ec2bfca3ac66",
   "metadata": {
    "scrolled": true
   },
   "outputs": [
    {
     "name": "stdout",
     "output_type": "stream",
     "text": [
      "The length of my_array2: 4\n",
      "The length of my_array3: 2\n",
      "The length of my_array4: 2\n"
     ]
    }
   ],
   "source": [
    "# print(f\"The length of my_array1: {len(my_array1)}\")\n",
    "# Output: TypeError: len() of unsized object\n",
    "\n",
    "print(f\"The length of my_array2: {len(my_array2)}\")\n",
    "print(f\"The length of my_array3: {len(my_array3)}\")\n",
    "print(f\"The length of my_array4: {len(my_array4)}\")"
   ]
  },
  {
   "cell_type": "markdown",
   "id": "83d17d6f-119b-40eb-a767-c181bcf16f18",
   "metadata": {},
   "source": [
    "<h3>Reshaping the NumPy Array:</h3>"
   ]
  },
  {
   "cell_type": "code",
   "execution_count": 236,
   "id": "a632864f-5f0f-4511-91aa-c129479b27d9",
   "metadata": {},
   "outputs": [
    {
     "data": {
      "text/plain": [
       "array([ 1,  2,  3,  4,  5,  6,  7,  8,  9, 10, 11, 12, 13, 14, 15, 16])"
      ]
     },
     "execution_count": 236,
     "metadata": {},
     "output_type": "execute_result"
    }
   ],
   "source": [
    "array_1 = np.arange(1, 17)\n",
    "array_1"
   ]
  },
  {
   "cell_type": "code",
   "execution_count": 238,
   "id": "4c0e2d9c-fbbf-47fb-a63f-db49dd6ce04b",
   "metadata": {},
   "outputs": [
    {
     "data": {
      "text/plain": [
       "array([[ 1,  2,  3,  4,  5,  6,  7,  8],\n",
       "       [ 9, 10, 11, 12, 13, 14, 15, 16]])"
      ]
     },
     "execution_count": 238,
     "metadata": {},
     "output_type": "execute_result"
    }
   ],
   "source": [
    "array_2 = array_1.reshape(2, 8)\n",
    "array_2"
   ]
  },
  {
   "cell_type": "code",
   "execution_count": 240,
   "id": "69d26a1b-7871-40cb-aa66-c63c5f0c4c0e",
   "metadata": {},
   "outputs": [
    {
     "data": {
      "text/plain": [
       "array([[[ 1,  2,  3,  4],\n",
       "        [ 5,  6,  7,  8]],\n",
       "\n",
       "       [[ 9, 10, 11, 12],\n",
       "        [13, 14, 15, 16]]])"
      ]
     },
     "execution_count": 240,
     "metadata": {},
     "output_type": "execute_result"
    }
   ],
   "source": [
    "array_3 = array_2.reshape(2, 2, 4)\n",
    "array_3"
   ]
  },
  {
   "cell_type": "code",
   "execution_count": 242,
   "id": "71c10ba5-933a-4b95-9f50-0faee914f50d",
   "metadata": {},
   "outputs": [],
   "source": [
    "# array_4 = array_3.reshape(15,)\n",
    "# array_4\n",
    "# Output : ValueError: cannot reshape array of size 16 into shape (15,)"
   ]
  },
  {
   "cell_type": "code",
   "execution_count": 244,
   "id": "e7eb97a3-bce3-46a4-855f-b349c1390e0d",
   "metadata": {},
   "outputs": [
    {
     "data": {
      "text/plain": [
       "array([ 1,  2,  3,  4,  5,  6,  7,  8,  9, 10, 11, 12, 13, 14, 15, 16])"
      ]
     },
     "execution_count": 244,
     "metadata": {},
     "output_type": "execute_result"
    }
   ],
   "source": [
    "array_4 = array_3.reshape(16,)\n",
    "array_4"
   ]
  },
  {
   "cell_type": "markdown",
   "id": "9735764a-31ff-4c0f-b0f3-bc931a3a5b53",
   "metadata": {},
   "source": [
    "<h3>Reshaping Multi-dimensional Array to One-dimensional Array:</h3>"
   ]
  },
  {
   "cell_type": "markdown",
   "id": "318cf85a-9cec-4475-a738-494b22183e17",
   "metadata": {},
   "source": [
    "<h4>1. Using reshape() function:</h4>"
   ]
  },
  {
   "cell_type": "code",
   "execution_count": 248,
   "id": "29d997b6-bcc3-47b8-beda-9769a1607dc6",
   "metadata": {},
   "outputs": [
    {
     "name": "stdout",
     "output_type": "stream",
     "text": [
      "[[1 2 3]\n",
      " [4 5 6]]\n",
      "[1 2 3 4 5 6]\n",
      "\n",
      "[[ 1 99  3]\n",
      " [88  5  6]]\n",
      "[ 1 99  3 88  5  6]\n"
     ]
    }
   ],
   "source": [
    "array_1 = np.array([[1, 2, 3], [4, 5, 6]])\n",
    "array_2 = array_1.reshape(-1) # 1D\n",
    "print(array_1)\n",
    "print(array_2)\n",
    "print()\n",
    "\n",
    "array_1[0, 1] = 99\n",
    "array_2[3] = 88\n",
    "\n",
    "print(array_1)\n",
    "print(array_2)"
   ]
  },
  {
   "cell_type": "code",
   "execution_count": 250,
   "id": "a0e82bfe-bb4a-4d09-b9ea-8eabe8330873",
   "metadata": {},
   "outputs": [
    {
     "name": "stdout",
     "output_type": "stream",
     "text": [
      "[[ 1 99  3 88  5  6]]\n"
     ]
    }
   ],
   "source": [
    "array_3 = array_1.reshape(1, -1) # 2D\n",
    "print(array_3)"
   ]
  },
  {
   "cell_type": "code",
   "execution_count": 252,
   "id": "18e632e2-bc57-4fc2-a8a0-6d265dc70b10",
   "metadata": {},
   "outputs": [
    {
     "name": "stdout",
     "output_type": "stream",
     "text": [
      "reshape() method: True\n"
     ]
    }
   ],
   "source": [
    "print(f\"reshape() method: {np.may_share_memory(array_1, array_2)}\")"
   ]
  },
  {
   "cell_type": "markdown",
   "id": "09cb002e-034a-41c7-a85e-58f529009864",
   "metadata": {},
   "source": [
    "<h4>2. Using ravel() function:</h4>"
   ]
  },
  {
   "cell_type": "code",
   "execution_count": 255,
   "id": "28882ef6-fe77-41ec-8558-7f4d64dbee58",
   "metadata": {},
   "outputs": [
    {
     "name": "stdout",
     "output_type": "stream",
     "text": [
      "[[1 2 3]\n",
      " [4 5 6]]\n",
      "[1 2 3 4 5 6]\n",
      "\n",
      "[[ 1 99  3]\n",
      " [88  5  6]]\n",
      "[ 1 99  3 88  5  6]\n"
     ]
    }
   ],
   "source": [
    "array_1 = np.array([[1, 2, 3], [4, 5, 6]])\n",
    "array_2 = array_1.ravel()\n",
    "print(array_1)\n",
    "print(array_2)\n",
    "print()\n",
    "\n",
    "array_1[0, 1] = 99\n",
    "array_2[3] = 88\n",
    "\n",
    "print(array_1)\n",
    "print(array_2)"
   ]
  },
  {
   "cell_type": "code",
   "execution_count": 257,
   "id": "4ce2eb0f-727d-402d-8f0d-a802046b0060",
   "metadata": {},
   "outputs": [
    {
     "name": "stdout",
     "output_type": "stream",
     "text": [
      "ravel() method: True\n"
     ]
    }
   ],
   "source": [
    "print(f\"ravel() method: {np.may_share_memory(array_1, array_2)}\")"
   ]
  },
  {
   "cell_type": "markdown",
   "id": "2b13a999-500e-4223-a97c-057462ca2750",
   "metadata": {},
   "source": [
    "<h4>3. Using flatten() function:</h4>"
   ]
  },
  {
   "cell_type": "code",
   "execution_count": 260,
   "id": "7dcd61cb-5e6b-4f3e-9b27-5234ff6d1901",
   "metadata": {},
   "outputs": [
    {
     "name": "stdout",
     "output_type": "stream",
     "text": [
      "[[1 2 3]\n",
      " [4 5 6]]\n",
      "[1 2 3 4 5 6]\n",
      "\n",
      "[[ 1 99  3]\n",
      " [ 4  5  6]]\n",
      "[1 2 3 4 5 6]\n"
     ]
    }
   ],
   "source": [
    "array_1 = np.array([[1, 2, 3], [4, 5, 6]])\n",
    "array_2 = array_1.flatten()\n",
    "print(array_1)\n",
    "print(array_2)\n",
    "print()\n",
    "\n",
    "array_1[0, 1] = 99\n",
    "\n",
    "print(array_1)\n",
    "print(array_2)"
   ]
  },
  {
   "cell_type": "code",
   "execution_count": 262,
   "id": "362524c2-6e6e-4ae9-aaa0-7198182deec7",
   "metadata": {},
   "outputs": [
    {
     "name": "stdout",
     "output_type": "stream",
     "text": [
      "flatten() method: False\n"
     ]
    }
   ],
   "source": [
    "print(f\"flatten() method: {np.may_share_memory(array_1, array_2)}\")"
   ]
  },
  {
   "cell_type": "code",
   "execution_count": null,
   "id": "76dee912-bd84-4bbe-9b83-aad6593e0ea9",
   "metadata": {},
   "outputs": [],
   "source": []
  }
 ],
 "metadata": {
  "kernelspec": {
   "display_name": "Python [conda env:base] *",
   "language": "python",
   "name": "conda-base-py"
  },
  "language_info": {
   "codemirror_mode": {
    "name": "ipython",
    "version": 3
   },
   "file_extension": ".py",
   "mimetype": "text/x-python",
   "name": "python",
   "nbconvert_exporter": "python",
   "pygments_lexer": "ipython3",
   "version": "3.12.7"
  }
 },
 "nbformat": 4,
 "nbformat_minor": 5
}
